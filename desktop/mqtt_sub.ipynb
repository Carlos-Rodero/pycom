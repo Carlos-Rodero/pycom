{
 "cells": [
  {
   "cell_type": "code",
   "execution_count": null,
   "metadata": {
    "collapsed": false
   },
   "outputs": [
    {
     "name": "stdout",
     "output_type": "stream",
     "text": [
      "<paho.mqtt.client.Client object at 0x10f863c90> /accelerometer Hello!\n",
      "<paho.mqtt.client.Client object at 0x10f863c90> /accelerometer Wake up reason: 1\n",
      "<paho.mqtt.client.Client object at 0x10f863c90> /accelerometer shake level 3.635559\n",
      "<paho.mqtt.client.Client object at 0x10f863c90> /accelerometer Hello!\n",
      "<paho.mqtt.client.Client object at 0x10f863c90> /accelerometer Wake up reason: 1\n",
      "<paho.mqtt.client.Client object at 0x10f863c90> /accelerometer shake level 3.009344\n",
      "<paho.mqtt.client.Client object at 0x10f863c90> /accelerometer shake level 2.435458\n",
      "<paho.mqtt.client.Client object at 0x10f863c90> /accelerometer Sleeping..\n",
      "<paho.mqtt.client.Client object at 0x10f863c90> /accelerometer Hello!\n",
      "<paho.mqtt.client.Client object at 0x10f863c90> /accelerometer Wake up reason: 1\n",
      "<paho.mqtt.client.Client object at 0x10f863c90> /accelerometer Hello!\n",
      "<paho.mqtt.client.Client object at 0x10f863c90> /accelerometer Wake up reason: 0\n",
      "<paho.mqtt.client.Client object at 0x10f863c90> /accelerometer Sleeping..\n",
      "<paho.mqtt.client.Client object at 0x10f863c90> /accelerometer Hello!\n",
      "<paho.mqtt.client.Client object at 0x10f863c90> /accelerometer Wake up reason: 1\n",
      "<paho.mqtt.client.Client object at 0x10f863c90> /accelerometer Sleeping..\n",
      "<paho.mqtt.client.Client object at 0x10f863c90> /accelerometer Hello!\n",
      "<paho.mqtt.client.Client object at 0x10f863c90> /accelerometer Wake up reason: 1\n",
      "<paho.mqtt.client.Client object at 0x10f863c90> /accelerometer Sleeping..\n",
      "<paho.mqtt.client.Client object at 0x10f863c90> /accelerometer Hello!\n",
      "<paho.mqtt.client.Client object at 0x10f863c90> /accelerometer Wake up reason: 1\n",
      "<paho.mqtt.client.Client object at 0x10f863c90> /accelerometer Sleeping..\n",
      "<paho.mqtt.client.Client object at 0x10f863c90> /accelerometer Hello!\n",
      "<paho.mqtt.client.Client object at 0x10f863c90> /accelerometer Wake up reason: 0\n",
      "<paho.mqtt.client.Client object at 0x10f863c90> /accelerometer Sleeping..\n",
      "<paho.mqtt.client.Client object at 0x10f863c90> /accelerometer Hello!\n",
      "<paho.mqtt.client.Client object at 0x10f863c90> /accelerometer Wake up reason: 1\n",
      "<paho.mqtt.client.Client object at 0x10f863c90> /accelerometer Hello!\n",
      "<paho.mqtt.client.Client object at 0x10f863c90> /accelerometer Wake up reason: 1\n",
      "<paho.mqtt.client.Client object at 0x10f863c90> /accelerometer Hello!\n",
      "<paho.mqtt.client.Client object at 0x10f863c90> /accelerometer Wake up reason: 1\n",
      "<paho.mqtt.client.Client object at 0x10f863c90> /accelerometer Sleeping..\n",
      "<paho.mqtt.client.Client object at 0x10f863c90> /accelerometer Hello!\n",
      "<paho.mqtt.client.Client object at 0x10f863c90> /accelerometer Wake up reason: 4\n",
      "<paho.mqtt.client.Client object at 0x10f863c90> /accelerometer Sleeping..\n",
      "<paho.mqtt.client.Client object at 0x10f863c90> /accelerometer Hello!\n",
      "<paho.mqtt.client.Client object at 0x10f863c90> /accelerometer Wake up reason: 4\n",
      "<paho.mqtt.client.Client object at 0x10f863c90> /accelerometer Sleeping..\n",
      "<paho.mqtt.client.Client object at 0x10f863c90> /accelerometer Hello!\n",
      "<paho.mqtt.client.Client object at 0x10f863c90> /accelerometer Wake up reason: 1\n",
      "<paho.mqtt.client.Client object at 0x10f863c90> /accelerometer shake level 3.377727\n",
      "<paho.mqtt.client.Client object at 0x10f863c90> /accelerometer shake level 3.736890\n",
      "<paho.mqtt.client.Client object at 0x10f863c90> /accelerometer shake level 3.322017\n",
      "<paho.mqtt.client.Client object at 0x10f863c90> /accelerometer shake level 4.996216\n",
      "<paho.mqtt.client.Client object at 0x10f863c90> /accelerometer shake level 6.070629\n",
      "<paho.mqtt.client.Client object at 0x10f863c90> /accelerometer shake level 4.801020\n",
      "<paho.mqtt.client.Client object at 0x10f863c90> /accelerometer shake level 1.719353\n",
      "<paho.mqtt.client.Client object at 0x10f863c90> /accelerometer shake level 2.670927\n",
      "<paho.mqtt.client.Client object at 0x10f863c90> /accelerometer shake level 1.842606\n",
      "<paho.mqtt.client.Client object at 0x10f863c90> /accelerometer shake level 2.053299\n",
      "<paho.mqtt.client.Client object at 0x10f863c90> /accelerometer shake level 3.815125\n",
      "<paho.mqtt.client.Client object at 0x10f863c90> /accelerometer shake level 2.165510\n",
      "<paho.mqtt.client.Client object at 0x10f863c90> /accelerometer shake level 2.529618\n",
      "<paho.mqtt.client.Client object at 0x10f863c90> /accelerometer shake level 2.968535\n",
      "<paho.mqtt.client.Client object at 0x10f863c90> /accelerometer shake level 3.491843\n",
      "<paho.mqtt.client.Client object at 0x10f863c90> /accelerometer shake level 2.437629\n",
      "<paho.mqtt.client.Client object at 0x10f863c90> /accelerometer shake level 5.011986\n",
      "<paho.mqtt.client.Client object at 0x10f863c90> /accelerometer shake level 3.482766\n",
      "<paho.mqtt.client.Client object at 0x10f863c90> /accelerometer shake level 3.229490\n",
      "<paho.mqtt.client.Client object at 0x10f863c90> /accelerometer shake level 3.031710\n",
      "<paho.mqtt.client.Client object at 0x10f863c90> /accelerometer shake level 2.578670\n",
      "<paho.mqtt.client.Client object at 0x10f863c90> /accelerometer shake level 1.928903\n",
      "<paho.mqtt.client.Client object at 0x10f863c90> /accelerometer Sleeping..\n",
      "<paho.mqtt.client.Client object at 0x10f863c90> /accelerometer Hello!\n",
      "<paho.mqtt.client.Client object at 0x10f863c90> /accelerometer Wake up reason: 4\n",
      "<paho.mqtt.client.Client object at 0x10f863c90> /accelerometer Sleeping..\n",
      "<paho.mqtt.client.Client object at 0x10f863c90> /accelerometer Hello!\n",
      "<paho.mqtt.client.Client object at 0x10f863c90> /accelerometer Wake up reason: 0\n",
      "<paho.mqtt.client.Client object at 0x10f863c90> /accelerometer Sleeping..\n",
      "<paho.mqtt.client.Client object at 0x10f863c90> /accelerometer Hello!\n",
      "<paho.mqtt.client.Client object at 0x10f863c90> /accelerometer Wake up reason: 4\n",
      "<paho.mqtt.client.Client object at 0x10f863c90> /accelerometer Sleeping..\n",
      "<paho.mqtt.client.Client object at 0x10f863c90> /accelerometer Hello!\n",
      "<paho.mqtt.client.Client object at 0x10f863c90> /accelerometer Wake up reason: 4\n",
      "<paho.mqtt.client.Client object at 0x10f863c90> /accelerometer Sleeping..\n",
      "<paho.mqtt.client.Client object at 0x10f863c90> /accelerometer Hello!\n",
      "<paho.mqtt.client.Client object at 0x10f863c90> /accelerometer Wake up reason: 4\n",
      "<paho.mqtt.client.Client object at 0x10f863c90> /accelerometer Sleeping..\n",
      "<paho.mqtt.client.Client object at 0x10f863c90> /accelerometer Hello!\n",
      "<paho.mqtt.client.Client object at 0x10f863c90> /accelerometer Wake up reason: 4\n",
      "<paho.mqtt.client.Client object at 0x10f863c90> /accelerometer Sleeping..\n",
      "<paho.mqtt.client.Client object at 0x10f863c90> /accelerometer Hello!\n",
      "<paho.mqtt.client.Client object at 0x10f863c90> /accelerometer Wake up reason: 4\n",
      "<paho.mqtt.client.Client object at 0x10f863c90> /accelerometer Sleeping..\n",
      "<paho.mqtt.client.Client object at 0x10f863c90> /accelerometer Hello!\n",
      "<paho.mqtt.client.Client object at 0x10f863c90> /accelerometer Wake up reason: 4\n",
      "<paho.mqtt.client.Client object at 0x10f863c90> /accelerometer Sleeping..\n"
     ]
    }
   ],
   "source": [
    "import time, os\n",
    "import paho.mqtt.client as mqtt\n",
    "#broker = '212.176.14.79'\n",
    "#broker = \"broker.hivemq.com\"\n",
    "broker = \"mqtt.avist.io\"\n",
    "topic = '/accelerometer'\n",
    "\n",
    "# The callback for when the client receives a CONNACK response from the server.\n",
    "def on_connect(client, userdata, flags, rc):\n",
    "    print(\"Connected with result code \"+str(rc))\n",
    "    client.connect(broker, 1883)\n",
    "    #client.subscribe('/tbdm')\n",
    "\n",
    "\n",
    "# The callback for when a PUBLISH message is received from the server.\n",
    "def on_message(client, userdata, msg):\n",
    "    print(str(client)+\" \"+msg.topic+\" \"+str(msg.payload))\n",
    "    #if msg.payload == 'ON':\n",
    "    message = str(msg.payload)\n",
    "    message = message.rsplit('.')[0]\n",
    "    #!say -v Yuri ну всё \n",
    "    #time.sleep(0.2)\n",
    "    #!say -v Yuri пиздец \n",
    "    os.system(\"say '%s'\"%message) \n",
    "\n",
    "client = mqtt.Client()\n",
    "#client.on_connect = on_connect\n",
    "client.on_message = on_message\n",
    "client.connect(broker, 1883)\n",
    "client.subscribe(topic)\n",
    "client.loop_forever()"
   ]
  },
  {
   "cell_type": "code",
   "execution_count": 35,
   "metadata": {
    "collapsed": false
   },
   "outputs": [
    {
     "data": {
      "text/plain": [
       "0"
      ]
     },
     "execution_count": 35,
     "metadata": {},
     "output_type": "execute_result"
    }
   ],
   "source": [
    "import os\n",
    "message = 'shake level 3.146520'\n",
    "message = 'Hello!'\n",
    "message = message.rsplit('.')[0]\n",
    "os.system(\"say -v Yuri '%s'\"%message) \n"
   ]
  },
  {
   "cell_type": "code",
   "execution_count": 16,
   "metadata": {
    "collapsed": false
   },
   "outputs": [
    {
     "name": "stdout",
     "output_type": "stream",
     "text": [
      "The Zen of Python, by Tim Peters\n",
      "\n",
      "Beautiful is better than ugly.\n",
      "Explicit is better than implicit.\n",
      "Simple is better than complex.\n",
      "Complex is better than complicated.\n",
      "Flat is better than nested.\n",
      "Sparse is better than dense.\n",
      "Readability counts.\n",
      "Special cases aren't special enough to break the rules.\n",
      "Although practicality beats purity.\n",
      "Errors should never pass silently.\n",
      "Unless explicitly silenced.\n",
      "In the face of ambiguity, refuse the temptation to guess.\n",
      "There should be one-- and preferably only one --obvious way to do it.\n",
      "Although that way may not be obvious at first unless you're Dutch.\n",
      "Now is better than never.\n",
      "Although never is often better than *right* now.\n",
      "If the implementation is hard to explain, it's a bad idea.\n",
      "If the implementation is easy to explain, it may be a good idea.\n",
      "Namespaces are one honking great idea -- let's do more of those!\n"
     ]
    }
   ],
   "source": [
    "import this"
   ]
  },
  {
   "cell_type": "code",
   "execution_count": null,
   "metadata": {
    "collapsed": true
   },
   "outputs": [],
   "source": []
  },
  {
   "cell_type": "code",
   "execution_count": null,
   "metadata": {
    "collapsed": true
   },
   "outputs": [],
   "source": []
  }
 ],
 "metadata": {
  "kernelspec": {
   "display_name": "Python 2",
   "language": "python",
   "name": "python2"
  },
  "language_info": {
   "codemirror_mode": {
    "name": "ipython",
    "version": 2
   },
   "file_extension": ".py",
   "mimetype": "text/x-python",
   "name": "python",
   "nbconvert_exporter": "python",
   "pygments_lexer": "ipython2",
   "version": "2.7.13"
  }
 },
 "nbformat": 4,
 "nbformat_minor": 2
}
