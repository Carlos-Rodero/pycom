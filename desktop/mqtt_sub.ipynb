{
 "cells": [
  {
   "cell_type": "code",
   "execution_count": null,
   "metadata": {
    "collapsed": false
   },
   "outputs": [
    {
     "name": "stdout",
     "output_type": "stream",
     "text": [
      "<paho.mqtt.client.Client object at 0x109983950> /accelerometer Hello!\n",
      "<paho.mqtt.client.Client object at 0x109983950> /accelerometer Wakeup reason: 1\n",
      "<paho.mqtt.client.Client object at 0x109983950> /accelerometer Hello!\n",
      "<paho.mqtt.client.Client object at 0x109983950> /accelerometer Wake up reason: 1\n",
      "<paho.mqtt.client.Client object at 0x109983950> /accelerometer shake level 4.406213\n",
      "<paho.mqtt.client.Client object at 0x109983950> /accelerometer shake level 5.254590\n",
      "<paho.mqtt.client.Client object at 0x109983950> /accelerometer shake level 2.282704\n",
      "<paho.mqtt.client.Client object at 0x109983950> /accelerometer Sleeping..\n",
      "<paho.mqtt.client.Client object at 0x109983950> /accelerometer Hello!\n",
      "<paho.mqtt.client.Client object at 0x109983950> /accelerometer Wake up reason: 0\n",
      "<paho.mqtt.client.Client object at 0x109983950> /accelerometer shake level 4.858047\n",
      "<paho.mqtt.client.Client object at 0x109983950> /accelerometer shake level 2.220015\n",
      "<paho.mqtt.client.Client object at 0x109983950> /accelerometer Sleeping..\n",
      "<paho.mqtt.client.Client object at 0x109983950> /accelerometer Hello!\n",
      "<paho.mqtt.client.Client object at 0x109983950> /accelerometer Wake up reason: 1\n",
      "<paho.mqtt.client.Client object at 0x109983950> /accelerometer Sleeping..\n",
      "<paho.mqtt.client.Client object at 0x109983950> /accelerometer Hello!\n",
      "<paho.mqtt.client.Client object at 0x109983950> /accelerometer Wake up reason: 1\n",
      "<paho.mqtt.client.Client object at 0x109983950> /accelerometer Sleeping..\n",
      "<paho.mqtt.client.Client object at 0x109983950> /accelerometer Hello!\n",
      "<paho.mqtt.client.Client object at 0x109983950> /accelerometer Wake up reason: 1\n",
      "<paho.mqtt.client.Client object at 0x109983950> /accelerometer Sleeping..\n",
      "<paho.mqtt.client.Client object at 0x109983950> /accelerometer Hello!\n",
      "<paho.mqtt.client.Client object at 0x109983950> /accelerometer Wake up reason: 0\n",
      "<paho.mqtt.client.Client object at 0x109983950> /accelerometer Sleeping..\n",
      "<paho.mqtt.client.Client object at 0x109983950> /accelerometer Hello!\n",
      "<paho.mqtt.client.Client object at 0x109983950> /accelerometer Wake up reason: 1\n",
      "<paho.mqtt.client.Client object at 0x109983950> /accelerometer shake level 4.639426\n",
      "<paho.mqtt.client.Client object at 0x109983950> /accelerometer Sleeping..\n",
      "<paho.mqtt.client.Client object at 0x109983950> /accelerometer Hello!\n",
      "<paho.mqtt.client.Client object at 0x109983950> /accelerometer Wake up reason: 1\n",
      "<paho.mqtt.client.Client object at 0x109983950> /accelerometer shake level 2.302471\n",
      "<paho.mqtt.client.Client object at 0x109983950> /accelerometer Sleeping..\n",
      "<paho.mqtt.client.Client object at 0x109983950> /accelerometer Hello!\n",
      "<paho.mqtt.client.Client object at 0x109983950> /accelerometer Wake up reason: 0\n",
      "<paho.mqtt.client.Client object at 0x109983950> /accelerometer Sleeping..\n",
      "<paho.mqtt.client.Client object at 0x109983950> /accelerometer Hello!\n",
      "<paho.mqtt.client.Client object at 0x109983950> /accelerometer Wake up reason: 1\n",
      "<paho.mqtt.client.Client object at 0x109983950> /accelerometer Sleeping..\n",
      "<paho.mqtt.client.Client object at 0x109983950> /accelerometer Hello!\n",
      "<paho.mqtt.client.Client object at 0x109983950> /accelerometer Wake up reason: 1\n",
      "<paho.mqtt.client.Client object at 0x109983950> /accelerometer shake level 2.468862\n",
      "<paho.mqtt.client.Client object at 0x109983950> /accelerometer Sleeping..\n",
      "<paho.mqtt.client.Client object at 0x109983950> /accelerometer Hello!\n",
      "<paho.mqtt.client.Client object at 0x109983950> /accelerometer Wake up reason: 1\n",
      "<paho.mqtt.client.Client object at 0x109983950> /accelerometer Sleeping..\n",
      "<paho.mqtt.client.Client object at 0x109983950> /accelerometer Hello!\n",
      "<paho.mqtt.client.Client object at 0x109983950> /accelerometer Wake up reason: 0\n",
      "<paho.mqtt.client.Client object at 0x109983950> /accelerometer shake level 3.601793\n",
      "<paho.mqtt.client.Client object at 0x109983950> /accelerometer Sleeping..\n",
      "<paho.mqtt.client.Client object at 0x109983950> /accelerometer Hello!\n",
      "<paho.mqtt.client.Client object at 0x109983950> /accelerometer Wake up reason: 1\n",
      "<paho.mqtt.client.Client object at 0x109983950> /accelerometer shake level 1.280132\n",
      "<paho.mqtt.client.Client object at 0x109983950> /accelerometer shake level 1.678140\n",
      "<paho.mqtt.client.Client object at 0x109983950> /accelerometer shake level 4.763860\n",
      "<paho.mqtt.client.Client object at 0x109983950> /accelerometer shake level 3.949476\n",
      "<paho.mqtt.client.Client object at 0x109983950> /accelerometer shake level 3.449444\n",
      "<paho.mqtt.client.Client object at 0x109983950> /accelerometer shake level 1.897532\n",
      "<paho.mqtt.client.Client object at 0x109983950> /accelerometer shake level 2.246588\n",
      "<paho.mqtt.client.Client object at 0x109983950> /accelerometer shake level 4.935476\n",
      "<paho.mqtt.client.Client object at 0x109983950> /accelerometer Sleeping..\n",
      "<paho.mqtt.client.Client object at 0x109983950> /accelerometer Hello!\n",
      "<paho.mqtt.client.Client object at 0x109983950> /accelerometer Wake up reason: 0\n",
      "<paho.mqtt.client.Client object at 0x109983950> /accelerometer Sleeping..\n",
      "<paho.mqtt.client.Client object at 0x109983950> /accelerometer Hello!\n",
      "<paho.mqtt.client.Client object at 0x109983950> /accelerometer Wake up reason: 0\n",
      "<paho.mqtt.client.Client object at 0x109983950> /accelerometer Sleeping..\n",
      "<paho.mqtt.client.Client object at 0x109983950> /accelerometer Hello!\n",
      "<paho.mqtt.client.Client object at 0x109983950> /accelerometer Wake up reason: 0\n",
      "<paho.mqtt.client.Client object at 0x109983950> /accelerometer Sleeping..\n",
      "<paho.mqtt.client.Client object at 0x109983950> /accelerometer Hello!\n",
      "<paho.mqtt.client.Client object at 0x109983950> /accelerometer Wake up reason: 1\n",
      "<paho.mqtt.client.Client object at 0x109983950> /accelerometer Hello!\n",
      "<paho.mqtt.client.Client object at 0x109983950> /accelerometer Wake up reason: 1\n",
      "[Errno 54] Connection reset by peer\n"
     ]
    }
   ],
   "source": [
    "import time, os\n",
    "import paho.mqtt.client as mqtt\n",
    "#broker = '212.176.14.79'\n",
    "#broker = \"broker.hivemq.com\"\n",
    "broker = \"mqtt.avist.io\"\n",
    "topic = '/accelerometer'\n",
    "\n",
    "# The callback for when the client receives a CONNACK response from the server.\n",
    "def on_connect(client, userdata, flags, rc):\n",
    "    print(\"Connected with result code \"+str(rc))\n",
    "    client.connect(broker, 1883)\n",
    "    #client.subscribe('/tbdm')\n",
    "\n",
    "\n",
    "# The callback for when a PUBLISH message is received from the server.\n",
    "def on_message(client, userdata, msg):\n",
    "    print(str(client)+\" \"+msg.topic+\" \"+str(msg.payload))\n",
    "    #if msg.payload == 'ON':\n",
    "    message = str(msg.payload)\n",
    "    message = message.rsplit('.')[0]\n",
    "    #!say -v Yuri ну всё \n",
    "    #time.sleep(0.2)\n",
    "    #!say -v Yuri пиздец \n",
    "    os.system(\"say '%s'\"%message) \n",
    "\n",
    "client = mqtt.Client()\n",
    "#client.on_connect = on_connect\n",
    "client.on_message = on_message\n",
    "client.connect(broker, 1883)\n",
    "client.subscribe(topic)\n",
    "client.loop_forever()"
   ]
  },
  {
   "cell_type": "code",
   "execution_count": 35,
   "metadata": {
    "collapsed": false
   },
   "outputs": [
    {
     "data": {
      "text/plain": [
       "0"
      ]
     },
     "execution_count": 35,
     "metadata": {},
     "output_type": "execute_result"
    }
   ],
   "source": [
    "import os\n",
    "message = 'shake level 3.146520'\n",
    "message = 'Hello!'\n",
    "message = message.rsplit('.')[0]\n",
    "os.system(\"say -v Yuri '%s'\"%message) \n"
   ]
  },
  {
   "cell_type": "code",
   "execution_count": 16,
   "metadata": {
    "collapsed": false
   },
   "outputs": [
    {
     "name": "stdout",
     "output_type": "stream",
     "text": [
      "The Zen of Python, by Tim Peters\n",
      "\n",
      "Beautiful is better than ugly.\n",
      "Explicit is better than implicit.\n",
      "Simple is better than complex.\n",
      "Complex is better than complicated.\n",
      "Flat is better than nested.\n",
      "Sparse is better than dense.\n",
      "Readability counts.\n",
      "Special cases aren't special enough to break the rules.\n",
      "Although practicality beats purity.\n",
      "Errors should never pass silently.\n",
      "Unless explicitly silenced.\n",
      "In the face of ambiguity, refuse the temptation to guess.\n",
      "There should be one-- and preferably only one --obvious way to do it.\n",
      "Although that way may not be obvious at first unless you're Dutch.\n",
      "Now is better than never.\n",
      "Although never is often better than *right* now.\n",
      "If the implementation is hard to explain, it's a bad idea.\n",
      "If the implementation is easy to explain, it may be a good idea.\n",
      "Namespaces are one honking great idea -- let's do more of those!\n"
     ]
    }
   ],
   "source": [
    "import this"
   ]
  },
  {
   "cell_type": "code",
   "execution_count": null,
   "metadata": {
    "collapsed": true
   },
   "outputs": [],
   "source": []
  },
  {
   "cell_type": "code",
   "execution_count": null,
   "metadata": {
    "collapsed": true
   },
   "outputs": [],
   "source": []
  }
 ],
 "metadata": {
  "kernelspec": {
   "display_name": "Python 2",
   "language": "python",
   "name": "python2"
  },
  "language_info": {
   "codemirror_mode": {
    "name": "ipython",
    "version": 2
   },
   "file_extension": ".py",
   "mimetype": "text/x-python",
   "name": "python",
   "nbconvert_exporter": "python",
   "pygments_lexer": "ipython2",
   "version": "2.7.13"
  }
 },
 "nbformat": 4,
 "nbformat_minor": 2
}
