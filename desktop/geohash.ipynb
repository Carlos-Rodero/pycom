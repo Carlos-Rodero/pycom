{
 "cells": [
  {
   "cell_type": "code",
   "execution_count": 71,
   "metadata": {
    "collapsed": false
   },
   "outputs": [],
   "source": [
    "import numpy as np\n",
    "\n",
    "import paho.mqtt.client as mqtt\n",
    "broker = '212.176.14.79'\n",
    "#broker = \"broker.hivemq.com\"\n",
    "topic = 'sensors'\n",
    "client = mqtt.Client()"
   ]
  },
  {
   "cell_type": "code",
   "execution_count": 72,
   "metadata": {
    "collapsed": false
   },
   "outputs": [
    {
     "name": "stdout",
     "output_type": "stream",
     "text": [
      "v4rcfq9fqxdk\n"
     ]
    }
   ],
   "source": [
    "import Geohash\n",
    "lat = 58.0\n",
    "lon= 56.0\n",
    "gh = Geohash.encode(lat, lon)\n",
    "print(gh)"
   ]
  },
  {
   "cell_type": "code",
   "execution_count": 73,
   "metadata": {
    "collapsed": false
   },
   "outputs": [
    {
     "name": "stdout",
     "output_type": "stream",
     "text": [
      "geo,lat=58.000000,lon=56.000000,geohash=v4rcfq9fqxdk value=0.706482 1520055429870074880\n"
     ]
    },
    {
     "data": {
      "text/plain": [
       "<paho.mqtt.client.MQTTMessageInfo at 0x10e97e3c0>"
      ]
     },
     "execution_count": 73,
     "metadata": {},
     "output_type": "execute_result"
    }
   ],
   "source": [
    "client.connect(broker)\n",
    "timestamp = int(time.time()*10e8)\n",
    "value = np.random.rand() # some value\n",
    "msg = 'geo,lat=%f,lon=%f,geohash=%s value=%f %d'%(lat, lon,  gh, value, timestamp) # influx line format\n",
    "print(msg)\n",
    "client.publish(topic, msg)\n"
   ]
  },
  {
   "cell_type": "code",
   "execution_count": null,
   "metadata": {
    "collapsed": true
   },
   "outputs": [],
   "source": []
  }
 ],
 "metadata": {
  "kernelspec": {
   "display_name": "Python 2",
   "language": "python",
   "name": "python2"
  },
  "language_info": {
   "codemirror_mode": {
    "name": "ipython",
    "version": 2
   },
   "file_extension": ".py",
   "mimetype": "text/x-python",
   "name": "python",
   "nbconvert_exporter": "python",
   "pygments_lexer": "ipython2",
   "version": "2.7.13"
  }
 },
 "nbformat": 4,
 "nbformat_minor": 2
}
